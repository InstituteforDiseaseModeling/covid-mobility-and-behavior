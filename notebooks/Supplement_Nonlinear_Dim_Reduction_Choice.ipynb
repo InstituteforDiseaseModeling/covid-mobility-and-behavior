{
 "cells": [
  {
   "cell_type": "code",
   "execution_count": 1,
   "metadata": {},
   "outputs": [],
   "source": [
    "# TODO\n",
    "# There should be a table of methods we tried with comments on which ones failed and which ones were promising.\n",
    "# (Refer to wiki post week 4-5). Also, there should be a figure of the three promising methods embeddings."
   ]
  },
  {
   "cell_type": "code",
   "execution_count": null,
   "metadata": {},
   "outputs": [],
   "source": []
  }
 ],
 "metadata": {
  "kernelspec": {
   "display_name": "covid-mobility-and-behavior",
   "language": "python",
   "name": "covid-mobility-and-behavior"
  },
  "language_info": {
   "codemirror_mode": {
    "name": "ipython",
    "version": 3
   },
   "file_extension": ".py",
   "mimetype": "text/x-python",
   "name": "python",
   "nbconvert_exporter": "python",
   "pygments_lexer": "ipython3",
   "version": "3.7.6"
  }
 },
 "nbformat": 4,
 "nbformat_minor": 4
}
