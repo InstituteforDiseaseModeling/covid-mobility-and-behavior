{
 "cells": [
  {
   "cell_type": "code",
   "execution_count": 1,
   "metadata": {},
   "outputs": [],
   "source": [
    "import pandas as pd\n",
    "import numpy as np\n",
    "import os\n",
    "import matplotlib.pyplot as plt\n",
    "import seaborn as sns\n",
    "from matplotlib.colors import ListedColormap\n",
    "from sklearn.linear_model import LinearRegression\n",
    "import geopandas as gpd\n",
    "import datetime"
   ]
  },
  {
   "cell_type": "code",
   "execution_count": 2,
   "metadata": {},
   "outputs": [],
   "source": [
    "#Shape files:\n",
    "WASHINGTON_SHAPE_PATH = os.path.abspath(os.path.join(os.getcwd(), '..', 'data', 'external', 'washington_blockgroup_shape', 'tl_2015_53_bg', 'tl_2015_53_bg.shp'))\n",
    "TEXAS_SHAPE_PATH = os.path.abspath(os.path.join(os.getcwd(), '..','data','external','texas_blockgroup_shape','tl_2016_48_bg','tl_2016_48_bg.shp'))\n",
    "GEORGIA_SHAPE_PATH = os.path.abspath(os.path.join(os.getcwd(), '..','data','external', 'georgia_blockgroup_shape','tl_2017_13_bg.shp'))\n",
    "CALIFORNIA_SHAPE_PATH = os.path.abspath(os.path.join(os.getcwd(), '..','data','external', 'california_blockgroup_shape','tl_2016_06_bg.shp'))\n",
    "\n",
    "#Figures:\n",
    "WASHINGTON_FIGURE_PATH = os.path.abspath(os.path.join(os.getcwd(), '..', 'reports', 'figures', 'WA'))\n",
    "TEXAS_FIGURE_PATH = os.path.abspath(os.path.join(os.getcwd(), '..', 'reports', 'figures', 'TX'))\n",
    "GEORGIA_FIGURE_PATH = os.path.abspath(os.path.join(os.getcwd(), '..', 'reports', 'figures', 'GA'))\n",
    "CALIFORNIA_FIGURE_PATH = os.path.abspath(os.path.join(os.getcwd(), '..', 'reports', 'figures', 'CA'))\n",
    "FIGURE_PATH = os.path.abspath(os.path.join(os.getcwd(), '..', 'reports', 'figures'))\n",
    "\n",
    "#Data:\n",
    "DATA_PATH = os.path.abspath(os.path.join(os.getcwd(), '..', 'data'))\n",
    "WASHINGTON_RAW_DATA_PATH = os.path.abspath(os.path.join(os.getcwd(), '..', 'data', 'raw', 'stayathome-washington.csv'))\n",
    "GEORGIA_RAW_DATA_PATH = os.path.abspath(os.path.join(os.getcwd(), '..', 'data', 'raw', 'stayathome-georgia.csv'))\n",
    "TEXAS_RAW_DATA_PATH = os.path.abspath(os.path.join(os.getcwd(), '..', 'data', 'raw', 'stayathome-texas.csv'))\n",
    "CALIFORNIA_RAW_DATA_PATH = os.path.abspath(os.path.join(os.getcwd(), '..', 'data', 'raw', 'stayathome-california.csv'))\n",
    "\n",
    "#Income-population path:\n",
    "INCOME_POPULATION_PATH = os.path.join(DATA_PATH, 'external', 'income_population')"
   ]
  },
  {
   "cell_type": "code",
   "execution_count": null,
   "metadata": {},
   "outputs": [],
   "source": [
    "#Load the data\n",
    "def load_data(RAW_DATA_PATH):\n",
    "    covid = pd.read_csv(RAW_DATA_PATH)\n",
    "    covid_ = covid.set_index('Unnamed: 0')\n",
    "    covid_ = covid_[covid_.columns[:117]] #to consider the same time period with our WA analysis\n",
    "    #Prepare the data: drop nans\n",
    "    X = covid_.dropna().values\n",
    "    index_X = covid_.dropna().index\n",
    "    columns_X = covid_.dropna().columns\n",
    "    print('Data loaded:', X.shape, covid_.shape)\n",
    "    return covid_.dropna(), X, index_X, columns_X\n",
    "\n"
   ]
  }
 ],
 "metadata": {
  "kernelspec": {
   "display_name": "Python 3",
   "language": "python",
   "name": "python3"
  },
  "language_info": {
   "codemirror_mode": {
    "name": "ipython",
    "version": 3
   },
   "file_extension": ".py",
   "mimetype": "text/x-python",
   "name": "python",
   "nbconvert_exporter": "python",
   "pygments_lexer": "ipython3",
   "version": "3.7.6"
  }
 },
 "nbformat": 4,
 "nbformat_minor": 4
}
