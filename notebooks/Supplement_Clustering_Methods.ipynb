{
 "cells": [
  {
   "cell_type": "code",
   "execution_count": 1,
   "metadata": {},
   "outputs": [],
   "source": [
    "#TODO \n",
    "#Create a notebook checking other natural clustering approaches:\n",
    "#DBSCAN, K-MEANS, Agglomerative, Spectral, Hierarchical\n",
    "#Explain the choice of GMM: it quantifies uncertainty, produces very low-uncertainty clusters, gives BIC-based model selection way"
   ]
  }
 ],
 "metadata": {
  "kernelspec": {
   "display_name": "covid-mobility-and-behavior",
   "language": "python",
   "name": "covid-mobility-and-behavior"
  },
  "language_info": {
   "codemirror_mode": {
    "name": "ipython",
    "version": 3
   },
   "file_extension": ".py",
   "mimetype": "text/x-python",
   "name": "python",
   "nbconvert_exporter": "python",
   "pygments_lexer": "ipython3",
   "version": "3.7.6"
  }
 },
 "nbformat": 4,
 "nbformat_minor": 4
}
