{
 "cells": [
  {
   "cell_type": "code",
   "execution_count": 2,
   "metadata": {},
   "outputs": [],
   "source": [
    "# #TODO\n",
    "# #Run GMM multiple times and see what types of outcomes occur, show those types on a figure\n",
    "# #Show the uncertainty tables for all the states\n",
    "# #Show where the uncertain points are\n",
    "# #Create a figure like the gif here: https://wiki.idmod.org/pages/viewpage.action?pageId=113116244\n",
    "# Here should be a figure of different types of runs of GMM. \n",
    "# How the off-manifold cluster could turn out to be split into two. \n",
    "# The idea is that even though GMM is non-convex, with different runs of the model we obtain robust clusters\n",
    "# which are qualitatively similar. Another robustness indicator is that different dimensionality reduction\n",
    "# methods agree on the existence of the denser region in the embedded space. There should be a figure \n",
    "# to support that, at least using Isomap, LLE and SE. \n"
   ]
  }
 ],
 "metadata": {
  "kernelspec": {
   "display_name": "covid-mobility-and-behavior",
   "language": "python",
   "name": "covid-mobility-and-behavior"
  },
  "language_info": {
   "codemirror_mode": {
    "name": "ipython",
    "version": 3
   },
   "file_extension": ".py",
   "mimetype": "text/x-python",
   "name": "python",
   "nbconvert_exporter": "python",
   "pygments_lexer": "ipython3",
   "version": "3.7.6"
  }
 },
 "nbformat": 4,
 "nbformat_minor": 4
}
