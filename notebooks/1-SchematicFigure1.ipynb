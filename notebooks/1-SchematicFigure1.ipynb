{
 "cells": [
  {
   "cell_type": "code",
   "execution_count": 6,
   "metadata": {},
   "outputs": [],
   "source": [
    "#Imports\n",
    "import pandas as pd\n",
    "import numpy as np\n",
    "import os\n",
    "import matplotlib.pyplot as plt\n",
    "import seaborn as sns\n",
    "from matplotlib.colors import ListedColormap\n",
    "from sklearn.linear_model import LinearRegression\n",
    "import geopandas as gpd\n",
    "import datetime\n",
    "import scipy\n",
    "from config import configurations\n",
    "from src.dimensionality_reduction import ComputeCovariance, visualize_manifold_method, choose_dimension\n",
    "from src.utils import define_paths, load_data, convert_to_python_dict, save_obj, load_obj, find_closest_time_series\n",
    "from src.utils import plot_time_series\n",
    "from rpy2.robjects.packages import importr\n",
    "import rpy2.robjects as ro\n",
    "from rpy2.robjects import r, pandas2ri\n",
    "from rpy2.robjects.conversion import localconverter\n",
    "from sklearn.manifold import Isomap, SpectralEmbedding, LocallyLinearEmbedding, trustworthiness\n",
    "from sklearn.manifold import trustworthiness\n",
    "from copy import copy \n",
    "from kneed import DataGenerator, KneeLocator\n",
    "import pickle\n",
    "from matplotlib import gridspec\n",
    "import matplotlib.dates as mdates\n",
    "from matplotlib.dates import MO, TU, WE, TH, FR, SA, SU\n",
    "import scipy\n",
    "from datetime import datetime\n",
    "from sklearn.metrics.pairwise import cosine_similarity\n",
    "\n",
    "plt.rcParams['figure.dpi'] = 600"
   ]
  },
  {
   "cell_type": "code",
   "execution_count": 2,
   "metadata": {},
   "outputs": [
    {
     "data": {
      "text/plain": [
       "{'clustering_palette': ['#1f78b4', '#a6cee3', '#fdbf6f', '#ff7f00', '#cc78bc'],\n",
       " 'WASHINGTON_SHAPE_PATH': '/mnt/c/Users/rlevin/Documents/notebooks/code/covid-mobility-and-behavior/data/external/wa_shape/tl_2019_53_bg.shp',\n",
       " 'TEXAS_SHAPE_PATH': '/mnt/c/Users/rlevin/Documents/notebooks/code/covid-mobility-and-behavior/data/external/tx_shape/tl_2019_48_bg.shp',\n",
       " 'GEORGIA_SHAPE_PATH': '/mnt/c/Users/rlevin/Documents/notebooks/code/covid-mobility-and-behavior/data/external/ga_shape/tl_2019_13_bg.shp',\n",
       " 'CALIFORNIA_SHAPE_PATH': '/mnt/c/Users/rlevin/Documents/notebooks/code/covid-mobility-and-behavior/data/external/ca_shape/tl_2019_06_bg.shp',\n",
       " 'WASHINGTON_FIGURE_PATH': '/mnt/c/Users/rlevin/Documents/notebooks/code/covid-mobility-and-behavior/reports/figures/WA',\n",
       " 'TEXAS_FIGURE_PATH': '/mnt/c/Users/rlevin/Documents/notebooks/code/covid-mobility-and-behavior/reports/figures/TX',\n",
       " 'GEORGIA_FIGURE_PATH': '/mnt/c/Users/rlevin/Documents/notebooks/code/covid-mobility-and-behavior/reports/figures/GA',\n",
       " 'CALIFORNIA_FIGURE_PATH': '/mnt/c/Users/rlevin/Documents/notebooks/code/covid-mobility-and-behavior/reports/figures/CA',\n",
       " 'FIGURE_PATH': '/mnt/c/Users/rlevin/Documents/notebooks/code/covid-mobility-and-behavior/reports/figures',\n",
       " 'DATA_PATH': '/mnt/c/Users/rlevin/Documents/notebooks/code/covid-mobility-and-behavior/data',\n",
       " 'WASHINGTON_RAW_DATA_PATH': '/mnt/c/Users/rlevin/Documents/notebooks/code/covid-mobility-and-behavior/data/raw/stayathome-washington.csv',\n",
       " 'GEORGIA_RAW_DATA_PATH': '/mnt/c/Users/rlevin/Documents/notebooks/code/covid-mobility-and-behavior/data/raw/stayathome-georgia.csv',\n",
       " 'TEXAS_RAW_DATA_PATH': '/mnt/c/Users/rlevin/Documents/notebooks/code/covid-mobility-and-behavior/data/raw/stayathome-texas.csv',\n",
       " 'CALIFORNIA_RAW_DATA_PATH': '/mnt/c/Users/rlevin/Documents/notebooks/code/covid-mobility-and-behavior/data/raw/stayathome-california.csv',\n",
       " 'INCOME_POPULATION_PATH': '/mnt/c/Users/rlevin/Documents/notebooks/code/covid-mobility-and-behavior/data/external/income_population'}"
      ]
     },
     "execution_count": 2,
     "metadata": {},
     "output_type": "execute_result"
    }
   ],
   "source": [
    "configurations"
   ]
  },
  {
   "cell_type": "code",
   "execution_count": 3,
   "metadata": {},
   "outputs": [
    {
     "name": "stdout",
     "output_type": "stream",
     "text": [
      "/mnt/c/Users/rlevin/Documents/notebooks/code/covid-mobility-and-behavior/reports\n"
     ]
    }
   ],
   "source": [
    "print(os.path.abspath(os.path.join(os.getcwd(), '..', 'reports')))"
   ]
  },
  {
   "cell_type": "code",
   "execution_count": null,
   "metadata": {},
   "outputs": [],
   "source": [
    "# STATE = 'wa'\n",
    "\n",
    "\n",
    "SHAPE_PATH, FIGURE_PATH, RAW_DATA_PATH, INCOME_POPULATION_PATH = define_paths(STATE)\n",
    "SHAPE_PATH, FIGURE_PATH, RAW_DATA_PATH, INCOME_POPULATION_PATH"
   ]
  }
 ],
 "metadata": {
  "kernelspec": {
   "display_name": "Python 3",
   "language": "python",
   "name": "python3"
  },
  "language_info": {
   "codemirror_mode": {
    "name": "ipython",
    "version": 3
   },
   "file_extension": ".py",
   "mimetype": "text/x-python",
   "name": "python",
   "nbconvert_exporter": "python",
   "pygments_lexer": "ipython3",
   "version": "3.7.6"
  }
 },
 "nbformat": 4,
 "nbformat_minor": 4
}
