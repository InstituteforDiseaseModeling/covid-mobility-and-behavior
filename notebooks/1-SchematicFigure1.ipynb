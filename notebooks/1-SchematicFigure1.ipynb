{
 "cells": [
  {
   "cell_type": "code",
   "execution_count": 1,
   "metadata": {},
   "outputs": [
    {
     "name": "stdout",
     "output_type": "stream",
     "text": [
      "/mnt/c/Users/rlevin/Documents/notebooks/code/covid-mobility-and-behavior\n"
     ]
    }
   ],
   "source": [
    "import pandas as pd\n",
    "import numpy as np\n",
    "import os\n",
    "import matplotlib.pyplot as plt\n",
    "import seaborn as sns\n",
    "from matplotlib.colors import ListedColormap\n",
    "from sklearn.linear_model import LinearRegression\n",
    "import geopandas as gpd\n",
    "import datetime\n",
    "from config import configurations"
   ]
  },
  {
   "cell_type": "code",
   "execution_count": 2,
   "metadata": {},
   "outputs": [
    {
     "data": {
      "text/plain": [
       "{'clustering_palette': ['#1f78b4', '#a6cee3', '#fdbf6f', '#ff7f00', '#cc78bc'],\n",
       " 'WASHINGTON_SHAPE_PATH': '/mnt/c/Users/rlevin/Documents/notebooks/code/covid-mobility-and-behavior/data/external/wa_shape/tl_2019_53_bg.shp',\n",
       " 'TEXAS_SHAPE_PATH': '/mnt/c/Users/rlevin/Documents/notebooks/code/covid-mobility-and-behavior/data/external/tx_shape/tl_2019_48_bg.shp',\n",
       " 'GEORGIA_SHAPE_PATH': '/mnt/c/Users/rlevin/Documents/notebooks/code/covid-mobility-and-behavior/data/external/ga_shape/tl_2019_13_bg.shp',\n",
       " 'CALIFORNIA_SHAPE_PATH': '/mnt/c/Users/rlevin/Documents/notebooks/code/covid-mobility-and-behavior/data/external/ca_shape/tl_2019_06_bg.shp',\n",
       " 'WASHINGTON_FIGURE_PATH': '/mnt/c/Users/rlevin/Documents/notebooks/code/covid-mobility-and-behavior/reports/figures/WA',\n",
       " 'TEXAS_FIGURE_PATH': '/mnt/c/Users/rlevin/Documents/notebooks/code/covid-mobility-and-behavior/reports/figures/TX',\n",
       " 'GEORGIA_FIGURE_PATH': '/mnt/c/Users/rlevin/Documents/notebooks/code/covid-mobility-and-behavior/reports/figures/GA',\n",
       " 'CALIFORNIA_FIGURE_PATH': '/mnt/c/Users/rlevin/Documents/notebooks/code/covid-mobility-and-behavior/reports/figures/CA',\n",
       " 'FIGURE_PATH': '/mnt/c/Users/rlevin/Documents/notebooks/code/covid-mobility-and-behavior/reports/figures',\n",
       " 'DATA_PATH': '/mnt/c/Users/rlevin/Documents/notebooks/code/covid-mobility-and-behavior/data',\n",
       " 'WASHINGTON_RAW_DATA_PATH': '/mnt/c/Users/rlevin/Documents/notebooks/code/covid-mobility-and-behavior/data/raw/stayathome-washington.csv',\n",
       " 'GEORGIA_RAW_DATA_PATH': '/mnt/c/Users/rlevin/Documents/notebooks/code/covid-mobility-and-behavior/data/raw/stayathome-georgia.csv',\n",
       " 'TEXAS_RAW_DATA_PATH': '/mnt/c/Users/rlevin/Documents/notebooks/code/covid-mobility-and-behavior/data/raw/stayathome-texas.csv',\n",
       " 'CALIFORNIA_RAW_DATA_PATH': '/mnt/c/Users/rlevin/Documents/notebooks/code/covid-mobility-and-behavior/data/raw/stayathome-california.csv',\n",
       " 'INCOME_POPULATION_PATH': '/mnt/c/Users/rlevin/Documents/notebooks/code/covid-mobility-and-behavior/data/external/income_population'}"
      ]
     },
     "execution_count": 2,
     "metadata": {},
     "output_type": "execute_result"
    }
   ],
   "source": [
    "configurations"
   ]
  },
  {
   "cell_type": "code",
   "execution_count": 4,
   "metadata": {},
   "outputs": [],
   "source": [
    "#Shape files:\n",
    "WASHINGTON_SHAPE_PATH = configurations['WASHINGTON_SHAPE_PATH']\n",
    "TEXAS_SHAPE_PATH = configurations['TEXAS_SHAPE_PATH']\n",
    "GEORGIA_SHAPE_PATH = configurations['GEORGIA_SHAPE_PATH']\n",
    "CALIFORNIA_SHAPE_PATH = configurations['CALIFORNIA_SHAPE_PATH']\n",
    "\n",
    "#Figures:\n",
    "WASHINGTON_FIGURE_PATH = configurations['WASHINGTON_FIGURE_PATH']\n",
    "TEXAS_FIGURE_PATH = configurations['TEXAS_FIGURE_PATH']\n",
    "GEORGIA_FIGURE_PATH = configurations['GEORGIA_FIGURE_PATH']\n",
    "CALIFORNIA_FIGURE_PATH = configurations['CALIFORNIA_FIGURE_PATH']\n",
    "FIGURE_PATH = configurations['FIGURE_PATH']\n",
    "\n",
    "#Data:\n",
    "DATA_PATH = configurations['DATA_PATH']\n",
    "WASHINGTON_RAW_DATA_PATH = configurations['WASHINGTON_RAW_DATA_PATH']\n",
    "GEORGIA_RAW_DATA_PATH = configurations['GEORGIA_RAW_DATA_PATH']\n",
    "TEXAS_RAW_DATA_PATH = configurations['TEXAS_RAW_DATA_PATH']\n",
    "CALIFORNIA_RAW_DATA_PATH = configurations['CALIFORNIA_RAW_DATA_PATH']\n",
    "\n",
    "#Income-population path:\n",
    "INCOME_POPULATION_PATH = os.path.join(DATA_PATH, 'external', 'income_population')"
   ]
  },
  {
   "cell_type": "code",
   "execution_count": null,
   "metadata": {},
   "outputs": [],
   "source": []
  }
 ],
 "metadata": {
  "kernelspec": {
   "display_name": "Python 3",
   "language": "python",
   "name": "python3"
  },
  "language_info": {
   "codemirror_mode": {
    "name": "ipython",
    "version": 3
   },
   "file_extension": ".py",
   "mimetype": "text/x-python",
   "name": "python",
   "nbconvert_exporter": "python",
   "pygments_lexer": "ipython3",
   "version": "3.7.6"
  }
 },
 "nbformat": 4,
 "nbformat_minor": 4
}
