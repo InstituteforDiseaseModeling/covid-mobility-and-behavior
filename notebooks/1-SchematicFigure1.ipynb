{
 "cells": [
  {
   "cell_type": "code",
   "execution_count": 10,
   "metadata": {},
   "outputs": [],
   "source": [
    "#Imports\n",
    "import pandas as pd\n",
    "import numpy as np\n",
    "import os\n",
    "import matplotlib.pyplot as plt\n",
    "import seaborn as sns\n",
    "from matplotlib.colors import ListedColormap\n",
    "from sklearn.linear_model import LinearRegression\n",
    "import geopandas as gpd\n",
    "import datetime\n",
    "import scipy\n",
    "from src.config import configurations\n",
    "from src.dimensionality_reduction import compute_covariance, visualize_manifold_method, choose_dimension\n",
    "from src.utils import define_paths, load_data, convert_to_python_dict, save_obj, load_obj, find_closest_time_series\n",
    "from src.utils import plot_time_series\n",
    "from rpy2.robjects.packages import importr\n",
    "import rpy2.robjects as ro\n",
    "from rpy2.robjects import r, pandas2ri\n",
    "from rpy2.robjects.conversion import localconverter\n",
    "from sklearn.manifold import Isomap, SpectralEmbedding, LocallyLinearEmbedding, trustworthiness\n",
    "from sklearn.manifold import trustworthiness\n",
    "from copy import copy \n",
    "from kneed import DataGenerator, KneeLocator\n",
    "import pickle\n",
    "from matplotlib import gridspec\n",
    "import matplotlib.dates as mdates\n",
    "from matplotlib.dates import MO, TU, WE, TH, FR, SA, SU\n",
    "import scipy\n",
    "from datetime import datetime\n",
    "from sklearn.metrics.pairwise import cosine_similarity\n",
    "\n",
    "plt.rcParams['figure.dpi'] = 600"
   ]
  },
  {
   "cell_type": "code",
   "execution_count": 1,
   "metadata": {},
   "outputs": [
    {
     "ename": "NameError",
     "evalue": "name 'configurations' is not defined",
     "output_type": "error",
     "traceback": [
      "\u001b[0;31m---------------------------------------------------------------------------\u001b[0m",
      "\u001b[0;31mNameError\u001b[0m                                 Traceback (most recent call last)",
      "\u001b[0;32m<ipython-input-1-87e2beb540ff>\u001b[0m in \u001b[0;36m<module>\u001b[0;34m\u001b[0m\n\u001b[0;32m----> 1\u001b[0;31m \u001b[0mconfigurations\u001b[0m\u001b[0;34m\u001b[0m\u001b[0;34m\u001b[0m\u001b[0m\n\u001b[0m",
      "\u001b[0;31mNameError\u001b[0m: name 'configurations' is not defined"
     ]
    }
   ],
   "source": [
    "configurations"
   ]
  },
  {
   "cell_type": "code",
   "execution_count": 5,
   "metadata": {},
   "outputs": [
    {
     "name": "stdout",
     "output_type": "stream",
     "text": [
      "/mnt/c/Users/rlevin/Documents/notebooks/code/covid-mobility-and-behavior/reports\n"
     ]
    }
   ],
   "source": [
    "print(os.path.abspath(os.path.join(os.getcwd(), '..', 'reports')))"
   ]
  },
  {
   "cell_type": "code",
   "execution_count": 9,
   "metadata": {},
   "outputs": [
    {
     "data": {
      "text/plain": [
       "('/mnt/c/Users/rlevin/Documents/notebooks/code/covid-mobility-and-behavior/data/external/wa_shape/cb_2019_53_bg_500k.shp',\n",
       " '/mnt/c/Users/rlevin/Documents/notebooks/code/covid-mobility-and-behavior/reports/figures/WA',\n",
       " '/mnt/c/Users/rlevin/Documents/notebooks/code/covid-mobility-and-behavior/data/raw/stayathome-washington.csv')"
      ]
     },
     "execution_count": 9,
     "metadata": {},
     "output_type": "execute_result"
    }
   ],
   "source": [
    "# STATE = 'wa'\n",
    "\n",
    "def define_paths(STATE):\n",
    "    if STATE == 'wa':\n",
    "        SHAPE_PATH = configurations['WASHINGTON_SHAPE_PATH']\n",
    "        FIGURE_PATH = configurations['WASHINGTON_FIGURE_PATH']\n",
    "        RAW_DATA_PATH = configurations['WASHINGTON_RAW_DATA_PATH']\n",
    "    if STATE == 'tx':\n",
    "        SHAPE_PATH = configurations['TEXAS_SHAPE_PATH']\n",
    "        FIGURE_PATH = configurations['TEXAS_FIGURE_PATH']\n",
    "        RAW_DATA_PATH = configurations['TEXAS_RAW_DATA_PATH']\n",
    "    if STATE == 'ga':\n",
    "        SHAPE_PATH = configurations['GEORGIA_SHAPE_PATH']\n",
    "        FIGURE_PATH = configurations['GEORGIA_FIGURE_PATH']\n",
    "        RAW_DATA_PATH = configurations['GEORGIA_RAW_DATA_PATH']\n",
    "    if STATE == 'ca':\n",
    "        SHAPE_PATH = configurations['CALIFORNIA_SHAPE_PATH']\n",
    "        FIGURE_PATH = configurations['CALIFORNIA_FIGURE_PATH']\n",
    "        RAW_DATA_PATH = configurations['CALIFORNIA_RAW_DATA_PATH']\n",
    "    return SHAPE_PATH, FIGURE_PATH, RAW_DATA_PATH\n",
    "\n",
    "SHAPE_PATH, FIGURE_PATH, RAW_DATA_PATH = define_paths(STATE)\n",
    "SHAPE_PATH, FIGURE_PATH, RAW_DATA_PATH"
   ]
  },
  {
   "cell_type": "code",
   "execution_count": null,
   "metadata": {},
   "outputs": [],
   "source": []
  },
  {
   "cell_type": "code",
   "execution_count": null,
   "metadata": {},
   "outputs": [],
   "source": []
  }
 ],
 "metadata": {
  "kernelspec": {
   "display_name": "Python 3",
   "language": "python",
   "name": "python3"
  },
  "language_info": {
   "codemirror_mode": {
    "name": "ipython",
    "version": 3
   },
   "file_extension": ".py",
   "mimetype": "text/x-python",
   "name": "python",
   "nbconvert_exporter": "python",
   "pygments_lexer": "ipython3",
   "version": "3.7.6"
  }
 },
 "nbformat": 4,
 "nbformat_minor": 4
}
